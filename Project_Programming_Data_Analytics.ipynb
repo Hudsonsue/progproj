{
 "cells": [
  {
   "cell_type": "markdown",
   "metadata": {},
   "source": [
    "## Project Programming for Data Analytics 2018"
   ]
  },
  {
   "cell_type": "markdown",
   "metadata": {},
   "source": []
  },
  {
   "cell_type": "markdown",
   "metadata": {},
   "source": [
    "**Problem Statement**\n",
    "\n",
    "For this project you must create a data set by simulating a real-world phenomenon of\n",
    "your choosing. You may pick any phenomenon you wish – you might pick one that is\n",
    "of interest to you in your personal or professional life. \n",
    "\n",
    "Then, rather than collect data related to the phenomenon, you should model and synthesise such data using Python.\n",
    "We suggest you use the numpy.random package for this purpose.\n",
    "\n",
    "Specifically, in this project you should:\n",
    "* Choose a real-world phenomenon that can be measured and for which you could\n",
    "collect at least one-hundred data points across at least four different variables.\n",
    "* Investigate the types of variables involved, their likely distributions, and their\n",
    "relationships with each other.\n",
    "* Synthesise/simulate a data set as closely matching their properties as possible.\n",
    "* Detail your research and implement the simulation in a Jupyter notebook – the\n",
    "data set itself can simply be displayed in an output cell within the notebook.\n",
    "\n",
    "*Note students may already have some real-world data sets in their own files. It is okay to\n",
    "base your synthesised data set on these should you wish (please reference it if you do),\n",
    "but the main task in this project is to create a synthesised data set.*"
   ]
  },
  {
   "cell_type": "markdown",
   "metadata": {},
   "source": [
    "import matplotlib.pyplot as plt"
   ]
  },
  {
   "cell_type": "code",
   "execution_count": 4,
   "metadata": {},
   "outputs": [],
   "source": [
    "import numpy as np"
   ]
  },
  {
   "cell_type": "markdown",
   "metadata": {},
   "source": [
    "building a student dataset to look at vaiables that might influence progression as reported by HEA[1]"
   ]
  },
  {
   "cell_type": "code",
   "execution_count": 8,
   "metadata": {},
   "outputs": [
    {
     "data": {
      "text/plain": [
       "array(['f', 'f', 'm', 'f', 'm', 'm', 'f', 'f', 'f', 'm', 'm', 'm', 'm',\n",
       "       'f', 'f', 'm', 'm', 'm', 'm', 'm', 'm', 'f', 'm', 'f', 'm', 'm',\n",
       "       'f', 'm', 'f', 'f', 'f', 'm', 'm', 'f', 'f', 'm', 'm', 'f', 'f',\n",
       "       'm', 'f', 'm', 'm', 'f', 'm', 'f', 'f', 'm', 'f', 'm', 'f', 'm',\n",
       "       'f', 'm', 'f', 'm', 'm', 'f', 'm', 'f', 'f', 'm', 'f', 'm', 'm',\n",
       "       'm', 'f', 'f', 'm', 'm', 'f', 'm', 'm', 'm', 'f', 'm', 'm', 'm',\n",
       "       'f', 'm', 'f', 'm', 'f', 'f', 'f', 'f', 'f', 'm', 'f', 'm', 'f',\n",
       "       'f', 'm', 'm', 'm', 'm', 'm', 'f', 'm', 'f'], dtype='<U1')"
      ]
     },
     "execution_count": 8,
     "metadata": {},
     "output_type": "execute_result"
    }
   ],
   "source": [
    "np.random.choice (['m', 'f'], 100, p =[0.48,0.52])"
   ]
  },
  {
   "cell_type": "code",
   "execution_count": 5,
   "metadata": {},
   "outputs": [
    {
     "data": {
      "text/plain": [
       "array(['full time', 'full time', 'full time', 'full time', 'part time',\n",
       "       'part time', 'part time', 'part time', 'full time', 'part time',\n",
       "       'part time', 'full time', 'full time', 'full time', 'full time',\n",
       "       'full time', 'full time', 'full time', 'full time', 'full time',\n",
       "       'full time', 'full time', 'full time', 'full time', 'full time',\n",
       "       'full time', 'full time', 'part time', 'part time', 'part time',\n",
       "       'full time', 'full time', 'full time', 'full time', 'part time',\n",
       "       'part time', 'full time', 'full time', 'full time', 'part time',\n",
       "       'full time', 'full time', 'full time', 'part time', 'full time',\n",
       "       'full time', 'full time', 'full time', 'full time', 'full time',\n",
       "       'part time', 'full time', 'part time', 'full time', 'full time',\n",
       "       'part time', 'full time', 'full time', 'full time', 'full time',\n",
       "       'full time', 'full time', 'full time', 'full time', 'full time',\n",
       "       'part time', 'full time', 'full time', 'full time', 'full time',\n",
       "       'full time', 'full time', 'full time', 'full time', 'full time',\n",
       "       'full time', 'full time', 'part time', 'part time', 'part time',\n",
       "       'full time', 'full time', 'full time', 'full time', 'part time',\n",
       "       'full time', 'full time', 'full time', 'part time', 'full time',\n",
       "       'full time', 'full time', 'full time', 'full time', 'part time',\n",
       "       'part time', 'part time', 'full time', 'full time', 'part time'],\n",
       "      dtype='<U9')"
      ]
     },
     "execution_count": 5,
     "metadata": {},
     "output_type": "execute_result"
    }
   ],
   "source": [
    "np.random.choice (['full time', 'part time'], 100, p =[0.8,0.2])"
   ]
  },
  {
   "cell_type": "code",
   "execution_count": 6,
   "metadata": {},
   "outputs": [
    {
     "name": "stdout",
     "output_type": "stream",
     "text": [
      "1\n",
      "7\n",
      "11\n",
      "2\n",
      "10\n",
      "4\n",
      "10\n",
      "8\n",
      "1\n",
      "2\n",
      "2\n",
      "1\n",
      "3\n",
      "5\n",
      "7\n",
      "1\n",
      "4\n",
      "5\n",
      "1\n",
      "6\n",
      "6\n",
      "10\n",
      "2\n",
      "1\n",
      "4\n",
      "2\n",
      "2\n",
      "9\n",
      "10\n",
      "9\n",
      "6\n",
      "9\n",
      "5\n",
      "8\n",
      "1\n",
      "6\n",
      "2\n",
      "2\n",
      "1\n",
      "1\n",
      "1\n",
      "5\n",
      "1\n",
      "5\n",
      "1\n",
      "5\n",
      "8\n",
      "2\n",
      "12\n",
      "5\n",
      "3\n",
      "8\n",
      "4\n",
      "3\n",
      "2\n",
      "3\n",
      "2\n",
      "1\n",
      "1\n",
      "6\n",
      "4\n",
      "3\n",
      "5\n",
      "7\n",
      "2\n",
      "3\n",
      "4\n",
      "1\n",
      "1\n",
      "2\n",
      "4\n",
      "1\n",
      "2\n",
      "3\n",
      "12\n",
      "4\n",
      "12\n",
      "3\n",
      "11\n",
      "4\n",
      "1\n",
      "2\n",
      "7\n",
      "2\n",
      "10\n",
      "11\n",
      "9\n",
      "1\n",
      "11\n",
      "3\n",
      "1\n",
      "7\n",
      "1\n",
      "4\n",
      "3\n",
      "4\n",
      "7\n",
      "1\n",
      "5\n"
     ]
    }
   ],
   "source": [
    "\n",
    "for i in range (1,100):\n",
    "    print(int(13**np.random.random()))\n",
    "    \n",
    "    ## assume preference follows benfords law\n"
   ]
  },
  {
   "cell_type": "code",
   "execution_count": 7,
   "metadata": {},
   "outputs": [
    {
     "data": {
      "text/plain": [
       "array([338, 320, 297, 328, 261, 287, 323, 330, 285, 254, 298, 330, 302,\n",
       "       264, 299, 273, 334, 322, 331, 313, 259, 298, 295, 275, 270, 262,\n",
       "       333, 312, 283, 329, 287, 325, 306, 336, 336, 286, 262, 273, 263,\n",
       "       277, 324, 277, 275, 272, 284, 310, 252, 258, 327, 317, 251, 253,\n",
       "       341, 345, 290, 275, 342, 293, 278, 257, 349, 309, 333, 267, 321,\n",
       "       296, 260, 263, 295, 335, 323, 258, 277, 343, 309, 253, 322, 291,\n",
       "       325, 319, 311, 250, 288, 344, 313, 343, 259, 283, 340, 292, 253,\n",
       "       278, 295, 320, 290, 323, 251, 279, 292, 318])"
      ]
     },
     "execution_count": 7,
     "metadata": {},
     "output_type": "execute_result"
    }
   ],
   "source": [
    "np.random.randint(250, 350, size=100)\n",
    "# cao pts"
   ]
  },
  {
   "cell_type": "code",
   "execution_count": null,
   "metadata": {},
   "outputs": [],
   "source": []
  },
  {
   "cell_type": "code",
   "execution_count": null,
   "metadata": {},
   "outputs": [],
   "source": []
  },
  {
   "cell_type": "markdown",
   "metadata": {},
   "source": [
    "## references\n",
    "\n",
    "[HEA](http://hea.ie/)\n",
    "\n",
    "https://en.wikipedia.org/wiki/Benford%27s_law"
   ]
  },
  {
   "cell_type": "code",
   "execution_count": null,
   "metadata": {},
   "outputs": [],
   "source": []
  }
 ],
 "metadata": {
  "kernelspec": {
   "display_name": "Python 3",
   "language": "python",
   "name": "python3"
  },
  "language_info": {
   "codemirror_mode": {
    "name": "ipython",
    "version": 3
   },
   "file_extension": ".py",
   "mimetype": "text/x-python",
   "name": "python",
   "nbconvert_exporter": "python",
   "pygments_lexer": "ipython3",
   "version": "3.7.0"
  }
 },
 "nbformat": 4,
 "nbformat_minor": 2
}
